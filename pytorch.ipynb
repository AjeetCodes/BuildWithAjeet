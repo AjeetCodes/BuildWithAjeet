{
  "nbformat": 4,
  "nbformat_minor": 0,
  "metadata": {
    "colab": {
      "provenance": [],
      "toc_visible": true,
      "gpuType": "T4",
      "authorship_tag": "ABX9TyN9NeHHeQLSbJMBAxBPjUmd",
      "include_colab_link": true
    },
    "kernelspec": {
      "name": "python3",
      "display_name": "Python 3"
    },
    "language_info": {
      "name": "python"
    },
    "accelerator": "GPU"
  },
  "cells": [
    {
      "cell_type": "markdown",
      "metadata": {
        "id": "view-in-github",
        "colab_type": "text"
      },
      "source": [
        "<a href=\"https://colab.research.google.com/github/AjeetCodes/BuildWithAjeet/blob/master/pytorch.ipynb\" target=\"_parent\"><img src=\"https://colab.research.google.com/assets/colab-badge.svg\" alt=\"Open In Colab\"/></a>"
      ]
    },
    {
      "cell_type": "code",
      "execution_count": 1,
      "metadata": {
        "id": "6qHbSkoEaE6M"
      },
      "outputs": [],
      "source": [
        "import torch"
      ]
    },
    {
      "cell_type": "code",
      "source": [
        "torch.__version__"
      ],
      "metadata": {
        "colab": {
          "base_uri": "https://localhost:8080/",
          "height": 35
        },
        "id": "4qb-D8_RaLrG",
        "outputId": "5bbff278-f500-42da-96e8-32ce499c64fa"
      },
      "execution_count": null,
      "outputs": [
        {
          "output_type": "execute_result",
          "data": {
            "text/plain": [
              "'2.8.0+cu126'"
            ],
            "application/vnd.google.colaboratory.intrinsic+json": {
              "type": "string"
            }
          },
          "metadata": {},
          "execution_count": 3
        }
      ]
    },
    {
      "cell_type": "code",
      "source": [
        "if torch.cuda.is_available():\n",
        "  print(\"GPU IS Available\")\n",
        "  print(f\"Using GPU:{torch.cuda.get_device_name(0)}\")\n",
        "else:\n",
        "  print(\"Not Found!!\")"
      ],
      "metadata": {
        "colab": {
          "base_uri": "https://localhost:8080/"
        },
        "id": "VNcSfsnPaapx",
        "outputId": "6623f199-a15f-4f1a-c82e-32ca34703fed"
      },
      "execution_count": null,
      "outputs": [
        {
          "output_type": "stream",
          "name": "stdout",
          "text": [
            "GPU IS Available\n",
            "Using GPU:Tesla T4\n"
          ]
        }
      ]
    },
    {
      "cell_type": "markdown",
      "source": [
        "# Creating Tensor"
      ],
      "metadata": {
        "id": "6BmWU8lAyhK2"
      }
    },
    {
      "cell_type": "code",
      "source": [
        "#using empty\n",
        "emptyTensor = torch.empty(2,2)\n",
        "print(emptyTensor)"
      ],
      "metadata": {
        "colab": {
          "base_uri": "https://localhost:8080/"
        },
        "id": "KGyXOWERb8GM",
        "outputId": "053f4479-4d51-48ef-bf19-12bc9ea26a8b"
      },
      "execution_count": null,
      "outputs": [
        {
          "output_type": "stream",
          "name": "stdout",
          "text": [
            "tensor([[3.2051e-13, 4.5307e-41],\n",
            "        [3.2051e-13, 4.5307e-41]])\n"
          ]
        }
      ]
    },
    {
      "cell_type": "markdown",
      "source": [
        "# Creating zeros tensor"
      ],
      "metadata": {
        "id": "3Dtpxv00yf_4"
      }
    },
    {
      "cell_type": "code",
      "source": [
        "# using zeros\n",
        "zerosTensor = torch.zeros(2,3, dtype=float)\n",
        "zerosTensor"
      ],
      "metadata": {
        "colab": {
          "base_uri": "https://localhost:8080/"
        },
        "id": "NMc8UzYWccH8",
        "outputId": "885eabb9-0462-4a9b-965b-36fc253c5825"
      },
      "execution_count": null,
      "outputs": [
        {
          "output_type": "execute_result",
          "data": {
            "text/plain": [
              "tensor([[0., 0., 0.],\n",
              "        [0., 0., 0.]], dtype=torch.float64)"
            ]
          },
          "metadata": {},
          "execution_count": 7
        }
      ]
    },
    {
      "cell_type": "markdown",
      "source": [
        "# Creating Random Tensor"
      ],
      "metadata": {
        "id": "4UGNWmCJb0An"
      }
    },
    {
      "cell_type": "code",
      "source": [
        "# using rand\n",
        "randTensor = torch.rand(2,3)\n",
        "randTensor.shape"
      ],
      "metadata": {
        "colab": {
          "base_uri": "https://localhost:8080/"
        },
        "id": "Rr7TUEtXdZno",
        "outputId": "a4851aae-76a3-4b20-a0d8-48c665abf9ad"
      },
      "execution_count": null,
      "outputs": [
        {
          "output_type": "execute_result",
          "data": {
            "text/plain": [
              "torch.Size([2, 3])"
            ]
          },
          "metadata": {},
          "execution_count": 9
        }
      ]
    },
    {
      "cell_type": "markdown",
      "source": [
        "# **Exercise**"
      ],
      "metadata": {
        "id": "c0lonk200Lno"
      }
    },
    {
      "cell_type": "markdown",
      "source": [
        "## **🧠 LEVEL 1 — Basics**\n",
        "\n",
        "\n",
        "### 1. **Create Different Tensors**\n",
        "\n",
        "    * Create a 1D tensor of 10 zeros\n",
        "    * Create a 2D tensor of ones with shape (3, 4)\n",
        "    * Create a tensor filled with random numbers between 0 and 1\n",
        "\n",
        "### 2. **Check Tensor Properties**\n",
        "\n",
        "    * Print .dtype, .device, .shape\n",
        "    * Move one tensor to CUDA (if available)\n",
        "### 3. **Tensor Initialization**\n",
        "\n",
        "    * Use torch.arange(), torch.linspace(), torch.eye(), and torch.randperm()\n",
        "    * Example: create a tensor of even numbers from 2 to 20\n",
        "\n",
        "\n",
        "\n",
        "\n",
        "\n",
        "\n",
        "\n"
      ],
      "metadata": {
        "id": "bQOaBYAn0Z58"
      }
    },
    {
      "cell_type": "markdown",
      "source": [
        "# ⚙️ LEVEL 2 — Tensor Operations\n",
        "**Goal:** Practice arithmetic and transformation operations\n"
      ],
      "metadata": {
        "id": "C5Y2zLzT3YN9"
      }
    },
    {
      "cell_type": "markdown",
      "source": [],
      "metadata": {
        "id": "YdP9VXDl0mxs"
      }
    },
    {
      "cell_type": "markdown",
      "source": [
        "## 🔹 Element-wise Operations\n",
        "\n",
        "**Tasks:**\n",
        "- Create two tensors of shape **(3,3)**\n",
        "- Perform the following element-wise operations:\n",
        "  - Addition  \n",
        "  - Subtraction  \n",
        "  - Multiplication  \n",
        "  - Division\n"
      ],
      "metadata": {
        "id": "dbV_3Bj-3biD"
      }
    },
    {
      "cell_type": "code",
      "source": [
        "t1 = torch.arange(1, 7, 1, dtype=int)\n",
        "t1 = t1.reshape(2,3)\n",
        "t1"
      ],
      "metadata": {
        "colab": {
          "base_uri": "https://localhost:8080/"
        },
        "id": "ncwvJfsIbSeC",
        "outputId": "58cb6295-5902-45bb-ac29-8a4a2a2bf22b"
      },
      "execution_count": null,
      "outputs": [
        {
          "output_type": "execute_result",
          "data": {
            "text/plain": [
              "tensor([[1, 2, 3],\n",
              "        [4, 5, 6]])"
            ]
          },
          "metadata": {},
          "execution_count": 7
        }
      ]
    },
    {
      "cell_type": "code",
      "source": [
        "t2 = torch.arange(7, 13, 1, dtype=int).reshape(2,3)\n",
        "t2"
      ],
      "metadata": {
        "colab": {
          "base_uri": "https://localhost:8080/"
        },
        "id": "qPmmGCbddABk",
        "outputId": "3ef14f4e-1801-485f-8f78-f3a9e400ab53"
      },
      "execution_count": null,
      "outputs": [
        {
          "output_type": "execute_result",
          "data": {
            "text/plain": [
              "tensor([[ 7,  8,  9],\n",
              "        [10, 11, 12]])"
            ]
          },
          "metadata": {},
          "execution_count": 10
        }
      ]
    },
    {
      "cell_type": "markdown",
      "source": [
        "### **Add**"
      ],
      "metadata": {
        "id": "FgygyEYgdkAq"
      }
    },
    {
      "cell_type": "code",
      "source": [
        "add = t1+t2\n",
        "add"
      ],
      "metadata": {
        "colab": {
          "base_uri": "https://localhost:8080/"
        },
        "id": "GqODA4qtdaG1",
        "outputId": "abf09b18-43c3-4f1c-f738-a576bb3a01e2"
      },
      "execution_count": null,
      "outputs": [
        {
          "output_type": "execute_result",
          "data": {
            "text/plain": [
              "tensor([[ 8, 10, 12],\n",
              "        [14, 16, 18]])"
            ]
          },
          "metadata": {},
          "execution_count": 11
        }
      ]
    },
    {
      "cell_type": "markdown",
      "source": [
        "### **Subtraction**"
      ],
      "metadata": {
        "id": "HEl_AjHRdWOC"
      }
    },
    {
      "cell_type": "code",
      "source": [
        "sub = t2-t1\n",
        "sub"
      ],
      "metadata": {
        "colab": {
          "base_uri": "https://localhost:8080/"
        },
        "id": "n3ahPZIYdqs8",
        "outputId": "13d517d5-7e90-49f6-aee5-2167d5459b65"
      },
      "execution_count": null,
      "outputs": [
        {
          "output_type": "execute_result",
          "data": {
            "text/plain": [
              "tensor([[6, 6, 6],\n",
              "        [6, 6, 6]])"
            ]
          },
          "metadata": {},
          "execution_count": 12
        }
      ]
    },
    {
      "cell_type": "markdown",
      "source": [
        "### **Multiplication**"
      ],
      "metadata": {
        "id": "NH9H2tS1eJkY"
      }
    },
    {
      "cell_type": "code",
      "source": [
        "mul = t1*t2\n",
        "mul"
      ],
      "metadata": {
        "colab": {
          "base_uri": "https://localhost:8080/"
        },
        "id": "TTcwPtMYePRz",
        "outputId": "913111ee-a68a-4b79-a11c-c570fdced2e7"
      },
      "execution_count": null,
      "outputs": [
        {
          "output_type": "execute_result",
          "data": {
            "text/plain": [
              "tensor([[ 7, 16, 27],\n",
              "        [40, 55, 72]])"
            ]
          },
          "metadata": {},
          "execution_count": 13
        }
      ]
    },
    {
      "cell_type": "markdown",
      "source": [
        "### **Division**"
      ],
      "metadata": {
        "id": "IkGA3vIoeYyd"
      }
    },
    {
      "cell_type": "code",
      "source": [
        "div = t2/t1\n",
        "div.abs"
      ],
      "metadata": {
        "colab": {
          "base_uri": "https://localhost:8080/"
        },
        "id": "kXe6eE4fec26",
        "outputId": "1f9b81fb-ec55-4b26-84d4-838d0ba85ad5"
      },
      "execution_count": null,
      "outputs": [
        {
          "output_type": "execute_result",
          "data": {
            "text/plain": [
              "<function Tensor.abs>"
            ]
          },
          "metadata": {},
          "execution_count": 17
        }
      ]
    },
    {
      "cell_type": "markdown",
      "source": [
        "## 🔹 Matrix Operations\n",
        "\n",
        "**Tasks:**\n",
        "- Create two tensors of shape **(2,3)** and **(3,2)**\n",
        "- Perform matrix multiplication using:\n",
        "  - `torch.matmul`\n",
        "  - or the `@` operator\n"
      ],
      "metadata": {
        "id": "B2pN5SmN3jqu"
      }
    },
    {
      "cell_type": "markdown",
      "source": [
        "## 🔹 Reshaping and Stacking\n",
        "\n",
        "**Tasks:**\n",
        "- Create a tensor of shape **(2,3)**\n",
        "- Reshape it to **(3,2)**\n",
        "- Stack it **3 times vertically**\n",
        "- Stack it **3 times horizontally**\n"
      ],
      "metadata": {
        "id": "_FqPCg--3lVY"
      }
    },
    {
      "cell_type": "markdown",
      "source": [
        "## 🔹 Slicing and Indexing\n",
        "\n",
        "**Tasks:**\n",
        "- Create a tensor of shape **(3,3)**\n",
        "- Extract:\n",
        "  - The **1st row**\n",
        "  - The **2nd column**\n",
        "  - A **submatrix** (for example: first 2 rows and last 2 columns)\n"
      ],
      "metadata": {
        "id": "i1HHNtEF3tNK"
      }
    },
    {
      "cell_type": "markdown",
      "source": [
        "# 🧩 LEVEL 3 — Real-world Simulation\n",
        "**Goal:** Start thinking like a model builder\n"
      ],
      "metadata": {
        "id": "nBFQllZT31i9"
      }
    },
    {
      "cell_type": "markdown",
      "source": [
        "## 🔹 Simulate a Simple Dataset\n",
        "\n",
        "**Tasks:**\n",
        "- Create a tensor of **10 house sizes** (random values between **500–2000 sqft**)  \n",
        "- Create another tensor of **house prices** using the formula:  \n",
        "  \\[\n",
        "  \\text{price} = \\text{size} \\times 3000 + \\text{random noise}\n",
        "  \\]\n",
        "- (Optional) Plot the relationship between **house size** and **price** using `matplotlib`\n"
      ],
      "metadata": {
        "id": "1KAfmxte35Dx"
      }
    },
    {
      "cell_type": "markdown",
      "source": [
        "## 🔹 Mean and Standardization\n",
        "\n",
        "**Tasks:**\n",
        "- Compute the **mean** and **standard deviation** of the house sizes\n",
        "- Normalize the dataset using:  \n",
        "  \\[\n",
        "  \\text{normalized} = \\frac{\\text{tensor} - \\text{mean}}{\\text{std}}\n",
        "  \\]\n"
      ],
      "metadata": {
        "id": "bxMabd5d38FQ"
      }
    },
    {
      "cell_type": "markdown",
      "source": [
        "## 🔹 Simple Tensor Gradient Practice\n",
        "\n",
        "**Tasks:**\n",
        "- Create a tensor  \n",
        "  \\[\n",
        "  x = \\text{torch.tensor}([2.0], \\text{requires_grad=True})\n",
        "  \\]\n",
        "- Define  \n",
        "  \\[\n",
        "  y = x^2 + 3x + 2\n",
        "  \\]\n",
        "- Compute gradient using `y.backward()`\n",
        "- Print the gradient value `x.grad`\n"
      ],
      "metadata": {
        "id": "nhAm76oI4Bg7"
      }
    },
    {
      "cell_type": "markdown",
      "source": [
        "# Solutions\n",
        "* Create a 1D tensor of 10 zeros\n",
        "* Create a 2D tensor of ones with shape (3, 4)\n",
        "* Create a tensor filled with random numbers between 0 and 1"
      ],
      "metadata": {
        "id": "8UndRta2YRpt"
      }
    },
    {
      "cell_type": "markdown",
      "source": [
        "Create a 1D tensor of 10 zeros"
      ],
      "metadata": {
        "id": "0ryq8H49Yesv"
      }
    },
    {
      "cell_type": "code",
      "source": [
        "zeros_tensor = torch.zeros(10)\n",
        "zeros_tensor"
      ],
      "metadata": {
        "colab": {
          "base_uri": "https://localhost:8080/"
        },
        "id": "DAUlLK5KYfb3",
        "outputId": "26c81e94-903e-4cb1-e6eb-6c1da68b3762"
      },
      "execution_count": null,
      "outputs": [
        {
          "output_type": "execute_result",
          "data": {
            "text/plain": [
              "tensor([0., 0., 0., 0., 0., 0., 0., 0., 0., 0.])"
            ]
          },
          "metadata": {},
          "execution_count": 19
        }
      ]
    },
    {
      "cell_type": "markdown",
      "source": [
        "## Create a 2D tensor of ones with shape (3, 4)\n"
      ],
      "metadata": {
        "id": "p0fvp5S2cY-I"
      }
    },
    {
      "cell_type": "code",
      "source": [
        "ones_array = torch.ones(3,4)\n",
        "# ones_array.ndim"
      ],
      "metadata": {
        "id": "wyMDuqs8c7XM"
      },
      "execution_count": null,
      "outputs": []
    },
    {
      "cell_type": "code",
      "source": [
        "rand_nums = torch.rand(10)\n",
        "rand_nums"
      ],
      "metadata": {
        "colab": {
          "base_uri": "https://localhost:8080/"
        },
        "id": "a5FejLVHdjkT",
        "outputId": "aef32a74-0ec4-45a2-9a2c-81f72a8869a1"
      },
      "execution_count": null,
      "outputs": [
        {
          "output_type": "execute_result",
          "data": {
            "text/plain": [
              "tensor([0.7993, 0.5261, 0.5352, 0.0758, 0.5981, 0.4864, 0.6837, 0.5893, 0.7848,\n",
              "        0.9854])"
            ]
          },
          "metadata": {},
          "execution_count": 28
        }
      ]
    },
    {
      "cell_type": "markdown",
      "source": [
        "## Tensor Initialization\n",
        "- Use torch.arange(), torch.linspace(), torch.eye(), and torch.randperm()\n",
        "- Example: create a tensor of even numbers from 2 to 20"
      ],
      "metadata": {
        "id": "On3ZI8n0eOI6"
      }
    },
    {
      "cell_type": "code",
      "source": [
        "t_arange = torch.arange(2, 20, 2, dtype=int)\n",
        "t_arange"
      ],
      "metadata": {
        "colab": {
          "base_uri": "https://localhost:8080/"
        },
        "id": "Ct__Wndfeav8",
        "outputId": "0289b355-13bc-4e6a-8a7b-9a180f4cda48"
      },
      "execution_count": null,
      "outputs": [
        {
          "output_type": "execute_result",
          "data": {
            "text/plain": [
              "tensor([ 2,  4,  6,  8, 10, 12, 14, 16, 18])"
            ]
          },
          "metadata": {},
          "execution_count": 31
        }
      ]
    },
    {
      "cell_type": "code",
      "source": [
        "t_linspace = torch.linspace(2, 20, 10, dtype=int)\n",
        "t_linspace"
      ],
      "metadata": {
        "colab": {
          "base_uri": "https://localhost:8080/"
        },
        "id": "vExIwSHje40L",
        "outputId": "af8aa04b-dcee-4a12-f139-9439a3e65c11"
      },
      "execution_count": null,
      "outputs": [
        {
          "output_type": "execute_result",
          "data": {
            "text/plain": [
              "tensor([ 2,  4,  6,  8, 10, 12, 14, 16, 18, 20])"
            ]
          },
          "metadata": {},
          "execution_count": 36
        }
      ]
    },
    {
      "cell_type": "code",
      "source": [
        "t = torch.eye(5)\n",
        "t"
      ],
      "metadata": {
        "colab": {
          "base_uri": "https://localhost:8080/"
        },
        "id": "TBbaDIgTfXmB",
        "outputId": "da86ba37-9b06-4f5e-fd78-a9e51d621f48"
      },
      "execution_count": null,
      "outputs": [
        {
          "output_type": "execute_result",
          "data": {
            "text/plain": [
              "tensor([[1., 0., 0., 0., 0.],\n",
              "        [0., 1., 0., 0., 0.],\n",
              "        [0., 0., 1., 0., 0.],\n",
              "        [0., 0., 0., 1., 0.],\n",
              "        [0., 0., 0., 0., 1.]])"
            ]
          },
          "metadata": {},
          "execution_count": 40
        }
      ]
    },
    {
      "cell_type": "markdown",
      "source": [
        "## **Auto Grad**"
      ],
      "metadata": {
        "id": "NE7btFllHvyQ"
      }
    },
    {
      "cell_type": "code",
      "source": [
        "x = torch.tensor(2.0, requires_grad=True)\n",
        "x"
      ],
      "metadata": {
        "colab": {
          "base_uri": "https://localhost:8080/"
        },
        "id": "KaCKZNrXH0Nq",
        "outputId": "59451f3e-cc97-4d2b-c173-9394b1a76fa9"
      },
      "execution_count": null,
      "outputs": [
        {
          "output_type": "execute_result",
          "data": {
            "text/plain": [
              "tensor(2., requires_grad=True)"
            ]
          },
          "metadata": {},
          "execution_count": 10
        }
      ]
    },
    {
      "cell_type": "code",
      "source": [
        "y = x**2 + 3*x +1\n",
        "y"
      ],
      "metadata": {
        "colab": {
          "base_uri": "https://localhost:8080/"
        },
        "id": "ndvWw6yoIMLg",
        "outputId": "3e762b5f-3f96-4fe2-dc72-e5775229261a"
      },
      "execution_count": null,
      "outputs": [
        {
          "output_type": "execute_result",
          "data": {
            "text/plain": [
              "tensor(11., grad_fn=<AddBackward0>)"
            ]
          },
          "metadata": {},
          "execution_count": 11
        }
      ]
    },
    {
      "cell_type": "code",
      "source": [
        "y.backward()"
      ],
      "metadata": {
        "id": "s6C451IdJYtP"
      },
      "execution_count": null,
      "outputs": []
    },
    {
      "cell_type": "code",
      "source": [
        "x.grad"
      ],
      "metadata": {
        "colab": {
          "base_uri": "https://localhost:8080/"
        },
        "id": "-Tu9jikAJk7f",
        "outputId": "141a054e-b552-4789-be00-794c22540ea0"
      },
      "execution_count": null,
      "outputs": [
        {
          "output_type": "execute_result",
          "data": {
            "text/plain": [
              "tensor(7.)"
            ]
          },
          "metadata": {},
          "execution_count": 13
        }
      ]
    },
    {
      "cell_type": "markdown",
      "source": [
        "# **Gradient Practice with Autograd (PyTorch)**"
      ],
      "metadata": {
        "id": "nrIX7VIp4UXZ"
      }
    },
    {
      "cell_type": "code",
      "source": [
        "# 1️⃣ Simple function f(x) = x^2\n",
        "x = torch.tensor(3.0, requires_grad=True)\n",
        "y = x ** 2\n",
        "y.backward()\n",
        "print(x.grad)  # dy/dx = 2x = 6"
      ],
      "metadata": {
        "colab": {
          "base_uri": "https://localhost:8080/"
        },
        "id": "KAoST0cT4XJC",
        "outputId": "1a7243d8-fc4a-47e8-9b68-69a28b9707ed"
      },
      "execution_count": null,
      "outputs": [
        {
          "output_type": "stream",
          "name": "stdout",
          "text": [
            "tensor(6.)\n"
          ]
        }
      ]
    },
    {
      "cell_type": "code",
      "source": [
        "# 2️⃣ f(x) = x^3 + 2x\n",
        "x = torch.tensor(2.0, requires_grad=True)\n",
        "y = x**3 + 2*x\n",
        "y.backward()\n",
        "print(x.grad)"
      ],
      "metadata": {
        "colab": {
          "base_uri": "https://localhost:8080/"
        },
        "id": "ZC4S9WGQ4lcl",
        "outputId": "12ec6765-aa31-4a8e-e4ca-bf62e442b482"
      },
      "execution_count": null,
      "outputs": [
        {
          "output_type": "stream",
          "name": "stdout",
          "text": [
            "tensor(14.)\n"
          ]
        }
      ]
    },
    {
      "cell_type": "code",
      "source": [
        "# 3️⃣ f(x, y) = x^2 + y^3\n",
        "x = torch.tensor(2.0, requires_grad=True)\n",
        "y = torch.tensor(3.0, requires_grad=True)\n",
        "z = x**2 + y**3\n",
        "z.backward()\n",
        "print(x.grad, y.grad)"
      ],
      "metadata": {
        "colab": {
          "base_uri": "https://localhost:8080/"
        },
        "id": "c5X87ug-4zjv",
        "outputId": "73a6b0a1-e032-40fc-d20a-f70ef5cb45ee"
      },
      "execution_count": null,
      "outputs": [
        {
          "output_type": "stream",
          "name": "stdout",
          "text": [
            "tensor(4.) tensor(27.)\n"
          ]
        }
      ]
    },
    {
      "cell_type": "markdown",
      "source": [
        "##Small Optimization Practice (Gradient Descent by Hand)\n",
        " - Now let’s use gradient to minimize a function 👇"
      ],
      "metadata": {
        "id": "Jqy6dMxv6l_R"
      }
    },
    {
      "cell_type": "code",
      "source": [
        "# Initialize w randomly\n",
        "w = torch.tensor(0.0, requires_grad=True)\n",
        "\n",
        "learning_rate = 0.1\n",
        "\n",
        "for i in range(10):\n",
        "    # Function\n",
        "    loss = (w - 5)**2\n",
        "\n",
        "    # Backprop\n",
        "    loss.backward()\n",
        "\n",
        "    print(f'learning_rate -: {learning_rate}, grad -> {w.grad}')\n",
        "    # Update weight manually\n",
        "    with torch.no_grad():\n",
        "        w -= learning_rate * w.grad\n",
        "\n",
        "    print(w)\n",
        "    # Reset gradient\n",
        "    w.grad.zero_()\n",
        "\n",
        "    print(f\"Step {i+1}: w = {w.item():.4f}, loss = {loss.item():.4f}\")"
      ],
      "metadata": {
        "id": "ovrnMxh-6p-j",
        "colab": {
          "base_uri": "https://localhost:8080/"
        },
        "outputId": "3364141d-e317-4e01-91fc-a213aac94100"
      },
      "execution_count": 7,
      "outputs": [
        {
          "output_type": "stream",
          "name": "stdout",
          "text": [
            "learning_rate -: 0.1, grad -> -10.0\n",
            "tensor(1., requires_grad=True)\n",
            "Step 1: w = 1.0000, loss = 25.0000\n",
            "learning_rate -: 0.1, grad -> -8.0\n",
            "tensor(1.8000, requires_grad=True)\n",
            "Step 2: w = 1.8000, loss = 16.0000\n",
            "learning_rate -: 0.1, grad -> -6.400000095367432\n",
            "tensor(2.4400, requires_grad=True)\n",
            "Step 3: w = 2.4400, loss = 10.2400\n",
            "learning_rate -: 0.1, grad -> -5.119999885559082\n",
            "tensor(2.9520, requires_grad=True)\n",
            "Step 4: w = 2.9520, loss = 6.5536\n",
            "learning_rate -: 0.1, grad -> -4.095999717712402\n",
            "tensor(3.3616, requires_grad=True)\n",
            "Step 5: w = 3.3616, loss = 4.1943\n",
            "learning_rate -: 0.1, grad -> -3.2767996788024902\n",
            "tensor(3.6893, requires_grad=True)\n",
            "Step 6: w = 3.6893, loss = 2.6844\n",
            "learning_rate -: 0.1, grad -> -2.6214399337768555\n",
            "tensor(3.9514, requires_grad=True)\n",
            "Step 7: w = 3.9514, loss = 1.7180\n",
            "learning_rate -: 0.1, grad -> -2.097151756286621\n",
            "tensor(4.1611, requires_grad=True)\n",
            "Step 8: w = 4.1611, loss = 1.0995\n",
            "learning_rate -: 0.1, grad -> -1.6777210235595703\n",
            "tensor(4.3289, requires_grad=True)\n",
            "Step 9: w = 4.3289, loss = 0.7037\n",
            "learning_rate -: 0.1, grad -> -1.3421764373779297\n",
            "tensor(4.4631, requires_grad=True)\n",
            "Step 10: w = 4.4631, loss = 0.4504\n"
          ]
        }
      ]
    },
    {
      "cell_type": "code",
      "source": [
        "\n",
        "import torch.nn as nn\n",
        "\n",
        "# Actual and predicted values\n",
        "y_true = torch.tensor([3.0, 5.0, 7.0])\n",
        "y_pred = torch.tensor([2.5, 5.5, 6.0])\n",
        "\n",
        "# Step 1: Define Loss Function\n",
        "criterion = nn.MSELoss()   # Mean Squared Error\n",
        "\n",
        "# Step 2: Compute Loss\n",
        "loss = criterion(y_pred, y_true)\n",
        "\n",
        "print(\"Loss value:\", loss.item())\n"
      ],
      "metadata": {
        "colab": {
          "base_uri": "https://localhost:8080/"
        },
        "id": "Cj2Ga7O6R4Gt",
        "outputId": "881ebb08-3495-4fdb-b4f2-311bc1f8e901"
      },
      "execution_count": 3,
      "outputs": [
        {
          "output_type": "stream",
          "name": "stdout",
          "text": [
            "Loss value: 0.5\n"
          ]
        }
      ]
    }
  ]
}