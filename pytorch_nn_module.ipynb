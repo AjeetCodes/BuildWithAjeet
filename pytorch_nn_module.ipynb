{
  "nbformat": 4,
  "nbformat_minor": 0,
  "metadata": {
    "colab": {
      "provenance": [],
      "authorship_tag": "ABX9TyMSwt+iiCdKd0oa4VuN8N6F",
      "include_colab_link": true
    },
    "kernelspec": {
      "name": "python3",
      "display_name": "Python 3"
    },
    "language_info": {
      "name": "python"
    }
  },
  "cells": [
    {
      "cell_type": "markdown",
      "metadata": {
        "id": "view-in-github",
        "colab_type": "text"
      },
      "source": [
        "<a href=\"https://colab.research.google.com/github/AjeetCodes/BuildWithAjeet/blob/master/pytorch_nn_module.ipynb\" target=\"_parent\"><img src=\"https://colab.research.google.com/assets/colab-badge.svg\" alt=\"Open In Colab\"/></a>"
      ]
    },
    {
      "cell_type": "code",
      "execution_count": null,
      "metadata": {
        "id": "lps9MyO7tRbB"
      },
      "outputs": [],
      "source": [
        "import torch\n",
        "import torch.nn as nn\n",
        "import matplotlib.pyplot as plt"
      ]
    },
    {
      "cell_type": "code",
      "source": [
        "x = torch.tensor([[1.0], [2.0], [3.0]])\n",
        "y_true = torch.tensor([[2.0], [4.0], [6.0]])"
      ],
      "metadata": {
        "id": "c_neX-IJtxIs"
      },
      "execution_count": null,
      "outputs": []
    },
    {
      "cell_type": "markdown",
      "source": [
        "##Create a Linear Model"
      ],
      "metadata": {
        "id": "CAvFKKtCt1Cf"
      }
    },
    {
      "cell_type": "code",
      "source": [
        "model = nn.Linear(1,1)"
      ],
      "metadata": {
        "id": "bjusXswKt4UB"
      },
      "execution_count": null,
      "outputs": []
    },
    {
      "cell_type": "code",
      "source": [
        "print(\"Initial weight:\", model.weight.item())\n",
        "print(\"Initial bias:\", model.bias.item())\n"
      ],
      "metadata": {
        "colab": {
          "base_uri": "https://localhost:8080/"
        },
        "id": "H7eWg6xpt_ab",
        "outputId": "9970cd91-27b8-4080-bd92-7acdf1cf9882"
      },
      "execution_count": null,
      "outputs": [
        {
          "output_type": "stream",
          "name": "stdout",
          "text": [
            "Initial weight: -0.3597981929779053\n",
            "Initial bias: -0.8012908697128296\n"
          ]
        }
      ]
    },
    {
      "cell_type": "markdown",
      "source": [
        "## Training loop setup\n",
        "- loss function\n",
        "- optimizer\n",
        "- learning rate\n",
        "- farward pass\n",
        "- loss\n",
        "- backpropegation\n",
        "- update weight\n",
        "- reset grad"
      ],
      "metadata": {
        "id": "-LTukA2VvGwc"
      }
    },
    {
      "cell_type": "code",
      "source": [
        "criterien = nn.MSELoss()\n",
        "optimizer = torch.optim.SGD(model.parameters(), lr=0.1)"
      ],
      "metadata": {
        "id": "Kz7IOJhSvtrS"
      },
      "execution_count": null,
      "outputs": []
    },
    {
      "cell_type": "code",
      "source": [
        "for epoch in range(10):\n",
        "  # farward pass\n",
        "  y_pred = model(x)\n",
        "\n",
        "  #calculate loss\n",
        "  loss = criterien(y_pred, y_true)\n",
        "\n",
        "  #calculate grad\n",
        "\n",
        "  loss.backward()\n",
        "\n",
        "  # update weights\n",
        "  optimizer.step()\n",
        "\n",
        "  # reset grad\n",
        "  optimizer.zero_grad()\n",
        "\n",
        "  print(f\"step -: {epoch +1}, loss : {loss.item():.4f}, y_pred -: {y_pred.tolist()}, y_true :- {y_true.tolist()}\")\n",
        "print(\"Learned weight:\", model.weight.item())\n",
        "print(\"Learned bias:\", model.bias.item())"
      ],
      "metadata": {
        "colab": {
          "base_uri": "https://localhost:8080/"
        },
        "id": "HWdQfBPCwJei",
        "outputId": "24b2e4b4-da92-4bec-ffcb-289a039da774"
      },
      "execution_count": null,
      "outputs": [
        {
          "output_type": "stream",
          "name": "stdout",
          "text": [
            "step -: 1, loss : 0.0007, y_pred -: [[2.0399904251098633], [4.00858211517334], [5.977173805236816]], y_true :- [[2.0], [4.0], [6.0]]\n",
            "step -: 2, loss : 0.0007, y_pred -: [[2.0390288829803467], [4.008375644683838], [5.97772216796875]], y_true :- [[2.0], [4.0], [6.0]]\n",
            "step -: 3, loss : 0.0007, y_pred -: [[2.038090705871582], [4.008173942565918], [5.978257656097412]], y_true :- [[2.0], [4.0], [6.0]]\n",
            "step -: 4, loss : 0.0006, y_pred -: [[2.037175178527832], [4.0079779624938965], [5.978780269622803]], y_true :- [[2.0], [4.0], [6.0]]\n",
            "step -: 5, loss : 0.0006, y_pred -: [[2.0362813472747803], [4.007785797119141], [5.97929048538208]], y_true :- [[2.0], [4.0], [6.0]]\n",
            "step -: 6, loss : 0.0006, y_pred -: [[2.0354092121124268], [4.007598876953125], [5.979788303375244]], y_true :- [[2.0], [4.0], [6.0]]\n",
            "step -: 7, loss : 0.0005, y_pred -: [[2.034558057785034], [4.007416248321533], [5.980274200439453]], y_true :- [[2.0], [4.0], [6.0]]\n",
            "step -: 8, loss : 0.0005, y_pred -: [[2.0337271690368652], [4.007237911224365], [5.980748176574707]], y_true :- [[2.0], [4.0], [6.0]]\n",
            "step -: 9, loss : 0.0005, y_pred -: [[2.03291654586792], [4.007063865661621], [5.9812116622924805]], y_true :- [[2.0], [4.0], [6.0]]\n",
            "step -: 10, loss : 0.0005, y_pred -: [[2.032125234603882], [4.006894111633301], [5.981663227081299]], y_true :- [[2.0], [4.0], [6.0]]\n",
            "Learned weight: 1.9753752946853638\n",
            "Learned bias: 0.0559774711728096\n"
          ]
        }
      ]
    },
    {
      "cell_type": "code",
      "source": [
        "# 1️⃣ Define the model\n",
        "model = nn.Sequential(\n",
        "    nn.Linear(1, 10),  # Input → Hidden\n",
        "    nn.ReLU(),         # Activation\n",
        "    nn.Linear(10, 1)   # Hidden → Output\n",
        ")\n",
        "\n",
        "# 2️⃣ Data\n",
        "x = torch.tensor([[1.0], [2.0], [3.0]])\n",
        "y_true = torch.tensor([[2.0], [4.0], [6.0]])\n",
        "\n",
        "# 3️⃣ Loss & Optimizer\n",
        "criterion = nn.MSELoss()\n",
        "optimizer = torch.optim.SGD(model.parameters(), lr=0.01)"
      ],
      "metadata": {
        "id": "wxWWes1M8dpR"
      },
      "execution_count": null,
      "outputs": []
    },
    {
      "cell_type": "code",
      "source": [
        "losses = []\n",
        "for epoch in range(50):\n",
        "    y_pred = model(x)\n",
        "    loss = criterion(y_pred, y_true)\n",
        "    loss.backward()\n",
        "    optimizer.step()\n",
        "    optimizer.zero_grad()\n",
        "    lossess.append(loss.item())\n",
        "    if (epoch+1) % 10 == 0:\n",
        "        print(f\"Epoch {epoch+1}, Loss = {loss.item():.6f}\")\n"
      ],
      "metadata": {
        "colab": {
          "base_uri": "https://localhost:8080/"
        },
        "id": "xc1uDcjb8krX",
        "outputId": "31b9ebbd-6add-41b8-c615-e5bee33289d9"
      },
      "execution_count": null,
      "outputs": [
        {
          "output_type": "stream",
          "name": "stdout",
          "text": [
            "Epoch 10, Loss = 0.069922\n",
            "Epoch 20, Loss = 0.061631\n",
            "Epoch 30, Loss = 0.054199\n",
            "Epoch 40, Loss = 0.047555\n",
            "Epoch 50, Loss = 0.041633\n"
          ]
        }
      ]
    },
    {
      "cell_type": "code",
      "source": [
        "plt.figure(figsize=(6,4))\n",
        "plt.plot(losses, label='Training Loss')\n",
        "plt.xlabel('Epoch')\n",
        "plt.ylabel('Loss')\n",
        "plt.title('Loss Curve')\n",
        "plt.legend()\n",
        "plt.show()"
      ],
      "metadata": {
        "colab": {
          "base_uri": "https://localhost:8080/",
          "height": 410
        },
        "id": "pmr6UptMxEYk",
        "outputId": "0d8de6d2-337c-4342-a86c-6e7227a7ecba"
      },
      "execution_count": null,
      "outputs": [
        {
          "output_type": "display_data",
          "data": {
            "text/plain": [
              "<Figure size 600x400 with 1 Axes>"
            ],
            "image/png": "[encoded data removed]"
          },
          "metadata": {}
        }
      ]
    },
    {
      "cell_type": "markdown",
      "source": [
        "#Verify with Code (Neuron Outputs)"
      ],
      "metadata": {
        "id": "IU41FTow9eAh"
      }
    },
    {
      "cell_type": "code",
      "source": [
        "x = torch.tensor([[2.0]])\n",
        "with torch.no_grad():\n",
        "    layer1_output = model[0](x)  # output from first Linear layer\n",
        "    relu_output = model[1](layer1_output)\n",
        "    final_output = model(x)\n",
        "\n",
        "print(\"Layer1 raw output:\", layer1_output)\n",
        "print(\"After ReLU:\", relu_output)\n",
        "print(\"Final output:\", final_output)\n"
      ],
      "metadata": {
        "colab": {
          "base_uri": "https://localhost:8080/"
        },
        "id": "k_sa3RX49fUJ",
        "outputId": "7ee508e7-a5e9-4701-99f3-86fd50d0d472"
      },
      "execution_count": null,
      "outputs": [
        {
          "output_type": "stream",
          "name": "stdout",
          "text": [
            "Layer1 raw output: tensor([[-0.4896, -1.7500, -1.3418,  1.6268,  0.0412, -0.6685,  1.8597,  2.3335,\n",
            "         -1.3827, -1.8051]])\n",
            "After ReLU: tensor([[0.0000, 0.0000, 0.0000, 1.6268, 0.0412, 0.0000, 1.8597, 2.3335, 0.0000,\n",
            "         0.0000]])\n",
            "Final output: tensor([[3.9572]])\n"
          ]
        }
      ]
    }
  ]
}